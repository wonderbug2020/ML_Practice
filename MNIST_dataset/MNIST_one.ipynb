{
 "cells": [
  {
   "cell_type": "code",
   "execution_count": 19,
   "id": "919442ce",
   "metadata": {},
   "outputs": [],
   "source": [
    "import os\n",
    "import cv2\n",
    "import numpy as np\n",
    "import matplotlib.pyplot as plt\n",
    "\n",
    "from sklearn.utils import shuffle\n",
    "from sklearn.model_selection import train_test_split\n",
    "\n",
    "from keras import backend as K\n",
    "K.set_image_data_format('channels_last')\n",
    "\n",
    "from keras.utils import np_utils\n",
    "from keras.models import Sequential\n",
    "from keras.layers.core import Dense, Dropout, Activation, Flatten\n",
    "from keras.layers.convolutional import Convolution2D, MaxPooling2D\n",
    "from tensorflow.keras.optimizers import SGD, RMSprop, Adam"
   ]
  },
  {
   "cell_type": "code",
   "execution_count": 3,
   "id": "ece320e9",
   "metadata": {},
   "outputs": [],
   "source": [
    "directory_train = f'../data/MNIST/mnist_png/training'\n",
    "directory_train_list = os.listdir(directory_train)"
   ]
  },
  {
   "cell_type": "code",
   "execution_count": 4,
   "id": "8a9e46da",
   "metadata": {},
   "outputs": [],
   "source": [
    "img_rows = 28\n",
    "img_cols = 28\n",
    "num_channel = 1\n",
    "num_classes = 10\n",
    "labels_name = {'0':0,'1':1,'2':2,'3':3,'4':4,'5':5,'6':6,'7':7,'8':8,'9':9}\n",
    "img_data_list = []\n",
    "labels_list = []"
   ]
  },
  {
   "cell_type": "code",
   "execution_count": 6,
   "id": "dbf3209e",
   "metadata": {},
   "outputs": [
    {
     "name": "stdout",
     "output_type": "stream",
     "text": [
      "Loading the images of dataset-0\n",
      "Loading the images of dataset-1\n",
      "Loading the images of dataset-2\n",
      "Loading the images of dataset-3\n",
      "Loading the images of dataset-4\n",
      "Loading the images of dataset-5\n",
      "Loading the images of dataset-6\n",
      "Loading the images of dataset-7\n",
      "Loading the images of dataset-8\n",
      "Loading the images of dataset-9\n"
     ]
    }
   ],
   "source": [
    "for numbers in directory_train_list:\n",
    "    img_list = os.listdir(directory_train + '/' + numbers)\n",
    "    print(f'Loading the images of dataset-{numbers}')\n",
    "    label = labels_name[numbers]\n",
    "    for img in img_list:\n",
    "        input_img = cv2.imread(directory_train + '/' + numbers + '/' + img)\n",
    "        input_img = cv2.cvtColor(input_img, cv2.COLOR_BGR2GRAY)\n",
    "        input_img_resize = cv2.resize(input_img, (img_rows,img_cols))\n",
    "        img_data_list.append(input_img_resize)\n",
    "        labels_list.append(label)"
   ]
  },
  {
   "cell_type": "code",
   "execution_count": 7,
   "id": "db8bbd83",
   "metadata": {},
   "outputs": [
    {
     "name": "stdout",
     "output_type": "stream",
     "text": [
      "(60000, 28, 28)\n"
     ]
    }
   ],
   "source": [
    "#Turn the images into a numpy array\n",
    "img_data = np.array(img_data_list)\n",
    "#Change their data type into decimals\n",
    "img_data = img_data.astype('float32')\n",
    "#divide the entire numpy array by 255\n",
    "img_data /= 255\n",
    "#Training set of 60k and testing set of 10k\n",
    "print(img_data.shape)"
   ]
  },
  {
   "cell_type": "code",
   "execution_count": 22,
   "id": "59a7f5d9",
   "metadata": {},
   "outputs": [
    {
     "name": "stdout",
     "output_type": "stream",
     "text": [
      "(60000, 28, 28, 1)\n"
     ]
    }
   ],
   "source": [
    "if num_channel == 1:\n",
    "    if K.image_data_format() == 'channels_first':\n",
    "        img_data = np.expand_dims(img_data, axis=1)\n",
    "        print(img_data.shape)\n",
    "    else:\n",
    "        img_data = np.expand_dims(img_data, axis=3)\n",
    "        print(img_data.shape)\n",
    "else:\n",
    "    if K.image_data_format() == 'channels_first':\n",
    "        img_data = np.rollaxis(img_data, 3, 1)\n",
    "        print(img_data.shape)"
   ]
  },
  {
   "cell_type": "code",
   "execution_count": null,
   "id": "333f3662",
   "metadata": {},
   "outputs": [],
   "source": []
  }
 ],
 "metadata": {
  "kernelspec": {
   "display_name": "Python 3 (ipykernel)",
   "language": "python",
   "name": "python3"
  },
  "language_info": {
   "codemirror_mode": {
    "name": "ipython",
    "version": 3
   },
   "file_extension": ".py",
   "mimetype": "text/x-python",
   "name": "python",
   "nbconvert_exporter": "python",
   "pygments_lexer": "ipython3",
   "version": "3.9.7"
  }
 },
 "nbformat": 4,
 "nbformat_minor": 5
}
